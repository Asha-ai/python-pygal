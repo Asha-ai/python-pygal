{
 "cells": [
  {
   "cell_type": "code",
   "execution_count": 15,
   "id": "89a86c05",
   "metadata": {},
   "outputs": [
    {
     "name": "stdout",
     "output_type": "stream",
     "text": [
      "Requirement already satisfied: cx_Oracle in c:\\users\\asha.ponnada.xius-bcgi\\appdata\\local\\programs\\python\\python39\\lib\\site-packages (8.3.0)\n"
     ]
    },
    {
     "name": "stderr",
     "output_type": "stream",
     "text": [
      "WARNING: You are using pip version 21.1.3; however, version 22.1.2 is available.\n",
      "You should consider upgrading via the 'c:\\users\\asha.ponnada.xius-bcgi\\appdata\\local\\programs\\python\\python39\\python.exe -m pip install --upgrade pip' command.\n"
     ]
    }
   ],
   "source": [
    "!pip install cx_Oracle\n",
    "import cx_Oracle"
   ]
  },
  {
   "cell_type": "code",
   "execution_count": 18,
   "id": "c060dbea",
   "metadata": {},
   "outputs": [
    {
     "ename": "DatabaseError",
     "evalue": "DPI-1047: Cannot locate a 64-bit Oracle Client library: \"The specified module could not be found\". See https://cx-oracle.readthedocs.io/en/latest/user_guide/installation.html for help",
     "output_type": "error",
     "traceback": [
      "\u001b[1;31m---------------------------------------------------------------------------\u001b[0m",
      "\u001b[1;31mDatabaseError\u001b[0m                             Traceback (most recent call last)",
      "\u001b[1;32mC:\\Users\\ASHAPO~1.XIU\\AppData\\Local\\Temp/ipykernel_5964/1429595888.py\u001b[0m in \u001b[0;36m<module>\u001b[1;34m\u001b[0m\n\u001b[1;32m----> 1\u001b[1;33m \u001b[0mcon\u001b[0m \u001b[1;33m=\u001b[0m \u001b[0mcx_Oracle\u001b[0m\u001b[1;33m.\u001b[0m\u001b[0mconnect\u001b[0m\u001b[1;33m(\u001b[0m\u001b[1;34m'scott/tiger@localhost'\u001b[0m\u001b[1;33m)\u001b[0m\u001b[1;33m\u001b[0m\u001b[1;33m\u001b[0m\u001b[0m\n\u001b[0m",
      "\u001b[1;31mDatabaseError\u001b[0m: DPI-1047: Cannot locate a 64-bit Oracle Client library: \"The specified module could not be found\". See https://cx-oracle.readthedocs.io/en/latest/user_guide/installation.html for help"
     ]
    }
   ],
   "source": [
    "con = cx_Oracle.connect('username/password@localhost')"
   ]
  },
  {
   "cell_type": "markdown",
   "id": "83a2a1fa",
   "metadata": {},
   "source": [
    "Import Pygal"
   ]
  },
  {
   "cell_type": "code",
   "execution_count": 1,
   "id": "c9a74fb3",
   "metadata": {},
   "outputs": [
    {
     "name": "stdout",
     "output_type": "stream",
     "text": [
      "Collecting pygal\n",
      "  Downloading pygal-3.0.0-py2.py3-none-any.whl (129 kB)\n",
      "Installing collected packages: pygal\n",
      "Successfully installed pygal-3.0.0\n"
     ]
    },
    {
     "name": "stderr",
     "output_type": "stream",
     "text": [
      "WARNING: You are using pip version 21.1.3; however, version 22.1.2 is available.\n",
      "You should consider upgrading via the 'c:\\users\\asha.ponnada.xius-bcgi\\appdata\\local\\programs\\python\\python39\\python.exe -m pip install --upgrade pip' command.\n"
     ]
    }
   ],
   "source": [
    "!pip install pygal \n",
    "import pygal"
   ]
  },
  {
   "cell_type": "code",
   "execution_count": 2,
   "id": "e40996ea",
   "metadata": {},
   "outputs": [],
   "source": [
    "Line_Chart = pygal.Line() \n",
    "Line_Chart.title = ' Line Chart' \n",
    "Line_Chart.x_labels = map(str, range(2005, 2016)) \n",
    "Line_Chart.add('A', [None, None, 0, 16.1, 22, 30, 36.9, 45.1, 46.1, 42.33, 37.11]) \n",
    "Line_Chart.add('B', [None, None, None, None, None, None, 0, 3.5, 10.1, 23.1, 35.2]) \n",
    "Line_Chart.add('C', [85.1, 84.1, 84.1, 74.1, 64, 58.0, 54.1, 44.3, 36.9, 26.5, 20.4]) \n",
    "Line_Chart.add('D', [14.1, 15.8, 15.1, 8.8, 8, 10.1, 8.4, 5.1, 6.6, 6.1, 7.4]) \n",
    "Line_Chart.render_to_file('Line_Chart.svg')"
   ]
  },
  {
   "cell_type": "code",
   "execution_count": 3,
   "id": "e6f128a6",
   "metadata": {},
   "outputs": [],
   "source": [
    "Bar_Chart = pygal.Bar() \n",
    "Bar_Chart.title = ' Bar Graph ' \n",
    "Bar_Chart.x_labels = map(str, range(2005, 2016)) \n",
    "Bar_Chart.add('A', [None, None, 0, 16.1, 22, 30, 36.9, 45.1, 46.1, 42.33, 37.11]) \n",
    "Bar_Chart.add('B', [None, None, None, None, None, None, 0, 3.5, 10.1, 23.1, 35.2]) \n",
    "Bar_Chart.add('C', [85.1, 84.1, 84.1, 74.1, 64, 58.0, 54.1, 44.3, 36.9, 26.5, 20.4]) \n",
    "Bar_Chart.add('D', [14.1, 15.8, 15.1, 8.8, 8, 10.1, 8.4, 5.1, 6.6, 6.1, 7.4]) \n",
    "Bar_Chart.render_to_file('Bar_Chart.svg')"
   ]
  },
  {
   "cell_type": "code",
   "execution_count": 4,
   "id": "8caeb53c",
   "metadata": {},
   "outputs": [],
   "source": [
    "Bar_Chart = pygal.StackedBar() \n",
    "Bar_Chart.title = 'Stacked bar Graph' \n",
    "Bar_Chart.x_labels = map(str, range(2006, 2017)) \n",
    "Bar_Chart.add('A', [None, None, 0, 16.1, 22, 30, 36.9, 45.1, 46.1, 42.33, 37.11]) \n",
    "Bar_Chart.add('B', [None, None, None, None, None, None, 0, 3.5, 10.1, 23.1, 35.2]) \n",
    "Bar_Chart.add('C', [85.1, 84.1, 84.1, 74.1, 64, 58.0, 54.1, 44.3, 36.9, 26.5, 20.4]) \n",
    "Bar_Chart.add('Others', [14.1, 15.8, 15.1, 8.8, 8, 10.1, 8.4, 5.1, 6.6, 6.1, 7.4]) \n",
    "Bar_Chart.render_to_file('Bar_Chart_stack.svg')"
   ]
  },
  {
   "cell_type": "code",
   "execution_count": 19,
   "id": "cf746f4f",
   "metadata": {},
   "outputs": [],
   "source": [
    "Pie_Chart = pygal.Pie() \n",
    "Pie_Chart.title = 'PIE Chart' \n",
    "Pie_Chart.add('C', 19.1) \n",
    "Pie_Chart.add('A', 36.1) \n",
    "Pie_Chart.add('B', 36.2) \n",
    "Pie_Chart.add('D', 4.4) \n",
    "Pie_Chart.add('E', 2.5) \n",
    "Pie_Chart.render_to_file('PC.svg')"
   ]
  },
  {
   "cell_type": "code",
   "execution_count": null,
   "id": "e0102824",
   "metadata": {},
   "outputs": [],
   "source": []
  },
  {
   "cell_type": "code",
   "execution_count": null,
   "id": "c1a55091",
   "metadata": {},
   "outputs": [],
   "source": []
  }
 ],
 "metadata": {
  "kernelspec": {
   "display_name": "Python 3 (ipykernel)",
   "language": "python",
   "name": "python3"
  },
  "language_info": {
   "codemirror_mode": {
    "name": "ipython",
    "version": 3
   },
   "file_extension": ".py",
   "mimetype": "text/x-python",
   "name": "python",
   "nbconvert_exporter": "python",
   "pygments_lexer": "ipython3",
   "version": "3.9.6"
  }
 },
 "nbformat": 4,
 "nbformat_minor": 5
}
